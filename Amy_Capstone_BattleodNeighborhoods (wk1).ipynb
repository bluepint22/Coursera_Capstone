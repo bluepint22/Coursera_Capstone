{
 "cells": [
  {
   "cell_type": "markdown",
   "metadata": {},
   "source": [
    "# Capstone Project - The Battle of the Neighborhoods (Week 1)\n",
    "\n",
    "##### Author: Amy TSE"
   ]
  },
  {
   "cell_type": "markdown",
   "metadata": {},
   "source": [
    "<a id='toc'></a>\n",
    "\n",
    "\n",
    "## Table of Contents\n",
    "\n",
    "1. [Problem Description/ Background](#part1)\n",
    "2. [Data Description](#part2)\n"
   ]
  },
  {
   "cell_type": "markdown",
   "metadata": {},
   "source": [
    "<a id='part1'></a>\n",
    "\n",
    "\n",
    "\n",
    "### Problem Description/ Background"
   ]
  },
  {
   "cell_type": "markdown",
   "metadata": {},
   "source": [
    "Penang is a Malaysian state located on the northwest coast of Peninsular Malaysia, by the Malacca Strait. It has two parts: Penang Island, where the capital city, George Town, is located, and Seberang Perai on the Malay Peninsula. They are connected by Malaysia's two longest road bridges, the Penang Bridge and the Sultan Abdul Halim Muadzam Shah Bridge; the latter is also as of May 2019 the longest oversea bridge in Southeast Asia. The second smallest Malaysian state by land mass, Penang is bordered by Kedah to the north and the east, and Perak to the south.\n",
    "\n",
    "Penang's population stood at nearly 1.767 million as of 2018, while its population density rose to 1,684/km2 (4,360/sq mi). It has among the nation's highest population densities and is one of the country's most urbanised states. Seberang Perai is Malaysia's second largest city by population. Its heterogeneous population is highly diverse in ethnicity, culture, language and religion. Aside from the three main races, the Malays, Chinese, and Indians, Penang is home to significant Eurasian, Siamese and expatriate communities. George Town is also home to a UNESCO World Heritage Site. A resident of Penang is colloquially known as a Penangite or Penang Lâng (in Penang Hokkien).\n",
    "\n",
    "Due to being separated by the Malacca Strait, and the difference in Ethnic composition; majority Chinese in Penang Island vs Malay in Seberang Perai, one is not like the other. In this project, we will be comparing the similarities and dissimiliarities between the neighbourhoods in these two parts of Penang.\n",
    "\n",
    "<em>Source:https://en.wikipedia.org/wiki/Penang</em>"
   ]
  },
  {
   "cell_type": "markdown",
   "metadata": {},
   "source": [
    "<a id='part2'></a>\n",
    "\n",
    "<a href=\"#toc\">Return to table of contents</a>\n",
    "\n",
    "### Data Description"
   ]
  },
  {
   "cell_type": "markdown",
   "metadata": {},
   "source": [
    "To solve the problem we will be using the below:\n",
    "<ul>\n",
    "    <li>Districts and neighborhoods in Penang from <a>https://www.penang.gov.my</a> and <a>https://en.wikipedia.org/wiki/Category:Districts_of_Penang</a></li> \n",
    "  <li>Latitude and Longitude of the neighborhoods using Python geocoder</li>\n",
    "  <li>Venues nearby using Foursquare API</li>\n",
    "</ul>\n",
    "\n",
    "I will be compiling a separate utf-8 csv file to structure the districts and neighborhoods due to lack of available data online in tabular form. Penang is made out of 5 main districts, 2 on the Penang Island, and 3 on the Malay Peninsular.\n",
    "\n",
    "We will explore the available venues within each neighborhood using Foursquare API, then cluster the venues which will give us a view on the similarities and dissimiliarities specifically between Penang Island and Seberang Perai."
   ]
  }
 ],
 "metadata": {
  "kernelspec": {
   "display_name": "Python 3",
   "language": "python",
   "name": "python3"
  },
  "language_info": {
   "codemirror_mode": {
    "name": "ipython",
    "version": 3
   },
   "file_extension": ".py",
   "mimetype": "text/x-python",
   "name": "python",
   "nbconvert_exporter": "python",
   "pygments_lexer": "ipython3",
   "version": "3.7.4"
  }
 },
 "nbformat": 4,
 "nbformat_minor": 2
}
